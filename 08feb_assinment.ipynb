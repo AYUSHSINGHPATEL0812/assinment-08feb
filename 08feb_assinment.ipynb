{
 "cells": [
  {
   "cell_type": "code",
   "execution_count": null,
   "id": "362a79ad-57f4-45a2-8f58-091cebee3ab1",
   "metadata": {},
   "outputs": [],
   "source": [
    "Q1 :-"
   ]
  },
  {
   "cell_type": "code",
   "execution_count": null,
   "id": "63cc8bb8-698f-4106-a5ba-827a9edfe4e6",
   "metadata": {},
   "outputs": [],
   "source": [
    "In object-oriented programming (OOP), abstraction is a fundamental concept that involves simplifying \n",
    "complex systems by focusing on the essential features and ignoring unnecessary details. "
   ]
  },
  {
   "cell_type": "code",
   "execution_count": 1,
   "id": "1b3d1296-601d-42cf-a607-c6b48c279389",
   "metadata": {},
   "outputs": [],
   "source": [
    "class Car:\n",
    "    def __init__(self, make, model):\n",
    "        self.make = make\n",
    "        self.model = model\n",
    "        self.speed = 0\n",
    "    \n",
    "    def accelerate(self, speed_increase):\n",
    "        self.speed += speed_increase\n",
    "    \n",
    "    def brake(self, speed_decrease):\n",
    "        self.speed -= speed_decrease\n",
    "    \n",
    "    def get_speed(self):\n",
    "        return self.speed\n"
   ]
  },
  {
   "cell_type": "code",
   "execution_count": null,
   "id": "d39338e1-d8b1-4161-b497-82d41000fe42",
   "metadata": {},
   "outputs": [],
   "source": []
  },
  {
   "cell_type": "code",
   "execution_count": null,
   "id": "38a12336-9488-4869-8611-c7ce6d4121ef",
   "metadata": {},
   "outputs": [],
   "source": [
    "Q2 :-"
   ]
  },
  {
   "cell_type": "code",
   "execution_count": null,
   "id": "3af44e3b-027c-4a4e-b037-efb7c686a53c",
   "metadata": {},
   "outputs": [],
   "source": [
    "Abstraction focuses on simplifying complex systems by representing\n",
    "essential features and ignoring unnecessary details."
   ]
  },
  {
   "cell_type": "code",
   "execution_count": 2,
   "id": "28c24320-9db6-460a-b477-0dee218578c8",
   "metadata": {},
   "outputs": [],
   "source": [
    "class Shape:\n",
    "    def calculate_area(self):\n",
    "        pass\n",
    "\n",
    "class Rectangle(Shape):\n",
    "    def __init__(self, width, height):\n",
    "        self.width = width\n",
    "        self.height = height\n",
    "    \n",
    "    def calculate_area(self):\n",
    "        return self.width * self.height\n",
    "\n",
    "class Circle(Shape):\n",
    "    def __init__(self, radius):\n",
    "        self.radius = radius\n",
    "    \n",
    "    def calculate_area(self):\n",
    "        return 3.14 * self.radius * self.radius\n",
    "\n",
    "class Triangle(Shape):\n",
    "    def __init__(self, base, height):\n",
    "        self.base = base\n",
    "        self.height = height\n",
    "    \n",
    "    def calculate_area(self):\n",
    "        return 0.5 * self.base * self.height\n"
   ]
  },
  {
   "cell_type": "code",
   "execution_count": null,
   "id": "b605f263-6fc9-48ff-b281-0aec50b13c74",
   "metadata": {},
   "outputs": [],
   "source": [
    "Encapsulation, on the other hand, is about bundling the data and\n",
    "methods (or functions) that operate on that data together within a class."
   ]
  },
  {
   "cell_type": "code",
   "execution_count": null,
   "id": "a08a4188-25d1-44aa-9d5e-c03a6d0e4094",
   "metadata": {},
   "outputs": [],
   "source": [
    "class Employee:\n",
    "    def __init__(self, name, age, salary):\n",
    "        self.__name = name\n",
    "        self.__age = age\n",
    "        self.__salary = salary\n",
    "    \n",
    "    def get_name(self):\n",
    "        return self.__name\n",
    "    \n",
    "    def get_age(self):\n",
    "        return self.__age\n",
    "    \n",
    "    def get_salary(self):\n",
    "        return self.__salary\n",
    "    \n",
    "    def set_salary(self, new_salary):\n",
    "        if new_salary > 0:\n",
    "            self.__salary = new_salary\n"
   ]
  },
  {
   "cell_type": "code",
   "execution_count": null,
   "id": "910ad771-5075-45f9-9e96-ed863779aa28",
   "metadata": {},
   "outputs": [],
   "source": []
  },
  {
   "cell_type": "code",
   "execution_count": null,
   "id": "1cfedf13-8fb7-488a-bc62-9c00af663886",
   "metadata": {},
   "outputs": [],
   "source": [
    "Q3:-"
   ]
  },
  {
   "cell_type": "code",
   "execution_count": null,
   "id": "5e83666f-c155-4a39-bc14-31023806bcd8",
   "metadata": {},
   "outputs": [],
   "source": [
    "The abc module in Python stands for \"Abstract Base Classes.\" It provides infrastructure for defining abstract base classes in Python.\n",
    "\n",
    "The abc module is used to define abstract base classes by using the ABC class as a base. "
   ]
  },
  {
   "cell_type": "code",
   "execution_count": null,
   "id": "7d801604-2e5f-4774-8c60-4ee9a73ed4eb",
   "metadata": {},
   "outputs": [],
   "source": []
  },
  {
   "cell_type": "code",
   "execution_count": null,
   "id": "2a3520c6-2541-4cec-b501-fa8278f043b9",
   "metadata": {},
   "outputs": [],
   "source": [
    "Q4:-"
   ]
  },
  {
   "cell_type": "code",
   "execution_count": null,
   "id": "87a38b57-6654-41e7-8f03-71642f4d73e3",
   "metadata": {},
   "outputs": [],
   "source": []
  },
  {
   "cell_type": "code",
   "execution_count": null,
   "id": "624611c3-bd69-4a5b-a816-ee558510d64c",
   "metadata": {},
   "outputs": [],
   "source": [
    "Classes and Objects:---- Using classes and objects is one of the fundamental ways to achieve data abstraction in Python"
   ]
  },
  {
   "cell_type": "code",
   "execution_count": null,
   "id": "3c552802-2858-46f1-a49e-8b7334ae1772",
   "metadata": {},
   "outputs": [],
   "source": [
    "Encapsulation:--- Encapsulation is another important aspect of achieving data abstraction. It involves bundling the data and methods that operate on that data together within a class"
   ]
  },
  {
   "cell_type": "code",
   "execution_count": null,
   "id": "c8060854-6d0c-4b5a-9053-570d2b2f3d3b",
   "metadata": {},
   "outputs": [],
   "source": [
    "Getters and Setters:---- Getters and setters are methods that provide controlled access to the attributes of an object"
   ]
  }
 ],
 "metadata": {
  "kernelspec": {
   "display_name": "Python 3 (ipykernel)",
   "language": "python",
   "name": "python3"
  },
  "language_info": {
   "codemirror_mode": {
    "name": "ipython",
    "version": 3
   },
   "file_extension": ".py",
   "mimetype": "text/x-python",
   "name": "python",
   "nbconvert_exporter": "python",
   "pygments_lexer": "ipython3",
   "version": "3.10.8"
  }
 },
 "nbformat": 4,
 "nbformat_minor": 5
}
